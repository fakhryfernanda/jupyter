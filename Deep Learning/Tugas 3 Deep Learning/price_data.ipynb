{
 "cells": [
  {
   "cell_type": "code",
   "execution_count": 1,
   "metadata": {},
   "outputs": [],
   "source": [
    "import yfinance as yf\n",
    "import pandas as pd\n",
    "import numpy as np\n",
    "import matplotlib.pyplot as plt\n",
    "import datetime\n",
    "import time\n",
    "from alpha_vantage.techindicators import TechIndicators\n",
    "from utils import *\n",
    "from sklearn.preprocessing import MinMaxScaler\n",
    "\n",
    "np.random.seed(1)"
   ]
  },
  {
   "cell_type": "markdown",
   "metadata": {},
   "source": [
    "#### Obtain price data and technical indicators"
   ]
  },
  {
   "cell_type": "code",
   "execution_count": 2,
   "metadata": {},
   "outputs": [
    {
     "data": {
      "text/plain": [
       "<AxesSubplot:xlabel='Date'>"
      ]
     },
     "execution_count": 2,
     "metadata": {},
     "output_type": "execute_result"
    },
    {
     "data": {
      "image/png": "[encoded data removed]",
      "text/plain": [
       "<Figure size 432x288 with 1 Axes>"
      ]
     },
     "metadata": {
      "needs_background": "light"
     },
     "output_type": "display_data"
    }
   ],
   "source": [
    "start_date = datetime.datetime(2002, 1, 1)\n",
    "end_date = datetime.datetime(2022, 1, 1)\n",
    "\n",
    "ticker = \"EA\"\n",
    "\n",
    "history = yf.Ticker(ticker).history(start=start_date, end=end_date)\n",
    "history[\"Close\"].plot()"
   ]
  },
  {
   "cell_type": "code",
   "execution_count": 3,
   "metadata": {},
   "outputs": [],
   "source": [
    "intervals = np.arange(6, 21)"
   ]
  },
  {
   "cell_type": "code",
   "execution_count": null,
   "metadata": {},
   "outputs": [
    {
     "name": "stdout",
     "output_type": "stream",
     "text": [
      "--- Obtaining EMA ---\n"
     ]
    }
   ],
   "source": [
    "ema = get_ema(ticker, intervals, start_date, end_date)"
   ]
  },
  {
   "cell_type": "code",
   "execution_count": null,
   "metadata": {},
   "outputs": [
    {
     "name": "stdout",
     "output_type": "stream",
     "text": [
      "--- Obtaining EMA ---\n"
     ]
    }
   ],
   "source": [
    "\n",
    "sma = get_sma(ticker, intervals, start_date, end_date)\n",
    "\n",
    "wma = get_wma(ticker, intervals, start_date, end_date)\n",
    "t3 = get_t3(ticker, intervals, start_date, end_date)\n",
    "rsi = get_rsi(ticker, intervals, start_date, end_date)\n",
    "willr = get_willr(ticker, intervals, start_date, end_date)\n",
    "adx = get_adx(ticker, intervals, start_date, end_date)\n",
    "mom = get_mom(ticker, intervals, start_date, end_date)\n",
    "cci = get_cci(ticker, intervals, start_date, end_date)\n",
    "cmo = get_cmo(ticker, intervals, start_date, end_date)\n",
    "roc = get_roc(ticker, intervals, start_date, end_date)\n",
    "mfi = get_mfi(ticker, intervals, start_date, end_date)\n",
    "trix = get_trix(ticker, intervals, start_date, end_date)\n",
    "dx = get_dx(ticker, intervals, start_date, end_date)"
   ]
  },
  {
   "cell_type": "code",
   "execution_count": null,
   "metadata": {},
   "outputs": [],
   "source": [
    "trima = get_trima(ticker, intervals, start_date, end_date)"
   ]
  },
  {
   "cell_type": "code",
   "execution_count": null,
   "metadata": {},
   "outputs": [],
   "source": [
    "df = pd.concat([history, ema, sma, wma, trima, t3, rsi, willr, adx, mom, cci, cmo, roc, mfi, trix, dx], axis=1)\n",
    "df = df.dropna()\n",
    "df = df.drop([\"Open\", \"High\", \"Low\", \"Volume\", \"Dividends\", \"Stock Splits\"], axis=1)\n",
    "df = df.rename(columns={\"Close\": \"close\"})\n",
    "df.to_csv(\"EA_15.csv\", index_label=\"date\")"
   ]
  },
  {
   "cell_type": "markdown",
   "metadata": {},
   "source": [
    "#### Read data and create labels"
   ]
  },
  {
   "cell_type": "code",
   "execution_count": null,
   "metadata": {},
   "outputs": [],
   "source": [
    "df = pd.read_csv(\"EA_15.csv\")\n",
    "df = df.set_index(\"date\")\n",
    "df.index = pd.to_datetime(df.index)\n",
    "df"
   ]
  },
  {
   "cell_type": "code",
   "execution_count": null,
   "metadata": {},
   "outputs": [],
   "source": [
    "df.describe()"
   ]
  },
  {
   "cell_type": "code",
   "execution_count": null,
   "metadata": {},
   "outputs": [],
   "source": [
    "num_features = len(df.columns) - 1\n",
    "shape = (int(np.sqrt(num_features)), int(np.sqrt(num_features)))"
   ]
  },
  {
   "cell_type": "code",
   "execution_count": null,
   "metadata": {},
   "outputs": [],
   "source": [
    "labels = create_labels(df, window_size=3)"
   ]
  },
  {
   "cell_type": "code",
   "execution_count": null,
   "metadata": {},
   "outputs": [],
   "source": [
    "print(f\"Sell {sum(labels == 0)}\")\n",
    "print(f\"Buy {sum(labels == 1)}\")\n",
    "print(f\"Hold {sum(labels == 2)}\")"
   ]
  },
  {
   "cell_type": "code",
   "execution_count": null,
   "metadata": {},
   "outputs": [],
   "source": [
    "minmax = MinMaxScaler(feature_range=(0, 1))\n",
    "\n",
    "x = np.array(df.loc[:, \"ema_6\":\"dx_20\"])\n",
    "x_norm = minmax.fit_transform(x)\n",
    "x_reshaped = reshape_data(x_norm, shape[0], shape[1])"
   ]
  },
  {
   "cell_type": "code",
   "execution_count": null,
   "metadata": {},
   "outputs": [],
   "source": [
    "w = 10\n",
    "h = 10\n",
    "\n",
    "fig = plt.figure(figsize=(w, h))\n",
    "for i in range(1, 7):\n",
    "    fig.add_subplot(3, 2, i)\n",
    "    img = x_reshaped[i+400]\n",
    "    plt.title(f\"x_{i+400}\")\n",
    "    plt.imshow(img, cmap=\"binary\")\n",
    "\n",
    "plt.show()"
   ]
  },
  {
   "cell_type": "code",
   "execution_count": null,
   "metadata": {},
   "outputs": [],
   "source": []
  }
 ],
 "metadata": {
  "interpreter": {
   "hash": "c315f93062085cb63810562b9e7b405321c069a2988e1f37c5cb22e7de878f53"
  },
  "kernelspec": {
   "display_name": "Python 3 (ipykernel)",
   "language": "python",
   "name": "python3"
  },
  "language_info": {
   "codemirror_mode": {
    "name": "ipython",
    "version": 3
   },
   "file_extension": ".py",
   "mimetype": "text/x-python",
   "name": "python",
   "nbconvert_exporter": "python",
   "pygments_lexer": "ipython3",
   "version": "3.8.10"
  }
 },
 "nbformat": 4,
 "nbformat_minor": 2
}
